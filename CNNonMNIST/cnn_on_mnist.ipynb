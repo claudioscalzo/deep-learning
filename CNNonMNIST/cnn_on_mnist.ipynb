{
 "cells": [
  {
   "cell_type": "markdown",
   "metadata": {},
   "source": [
    "<h1 style=\"text-align:center\">Deep Learning   </h1>\n",
    "<h1 style=\"text-align:center\"> Lab Session 2 - 1.5 Hours </h1>\n",
    "<h1 style=\"text-align:center\"> Convolutional Neural Network (CNN) for Handwritten Digits Recognition</h1>"
   ]
  },
  {
   "cell_type": "markdown",
   "metadata": {},
   "source": [
    "<b> Group name: </b> deeplearn8 <br>\n",
    "<b> Student1: </b> Claudio SCALZO <br>\n",
    "<b> Student2: </b> Luca LOMBARDO <br>\n",
    " \n",
    " \n",
    "The aim of this session is to practice with Convolutional Neural Networks. Each group should fill and run appropriate notebook cells. \n",
    "\n",
    "\n",
    "Generate your final report (export as HTML) and upload it on the submission website http://bigfoot-m1.eurecom.fr/teachingsub/login (using your deeplearnXX/password). Do not forget to run all your cells before generating your final report and do not forget to include the names of all participants in the group. The lab session should be completed and submitted by May 30th 2018 (23:59:59 CET)."
   ]
  },
  {
   "cell_type": "markdown",
   "metadata": {},
   "source": [
    "# Introduction"
   ]
  },
  {
   "cell_type": "markdown",
   "metadata": {},
   "source": [
    "In the previous Lab Session, you built a Multilayer Perceptron for recognizing hand-written digits from the MNIST data-set. The best achieved accuracy on testing data was about 97%. Can you do better than these results using a deep CNN ?\n",
    "In this Lab Session, you will build, train and optimize in TensorFlow one of the early Convolutional Neural Networks,  **LeNet-5**, to go to more than 99% of accuracy. \n",
    "\n",
    "\n",
    "\n",
    "\n"
   ]
  },
  {
   "cell_type": "markdown",
   "metadata": {},
   "source": [
    "# Load MNIST Data in TensorFlow\n",
    "Run the cell below to load the MNIST data that comes with TensorFlow. You will use this data in **Section 1** and **Section 2**."
   ]
  },
  {
   "cell_type": "code",
   "execution_count": 1,
   "metadata": {},
   "outputs": [
    {
     "name": "stdout",
     "output_type": "stream",
     "text": [
      "Extracting MNIST_data/train-images-idx3-ubyte.gz\n",
      "Extracting MNIST_data/train-labels-idx1-ubyte.gz\n",
      "Extracting MNIST_data/t10k-images-idx3-ubyte.gz\n",
      "Extracting MNIST_data/t10k-labels-idx1-ubyte.gz\n",
      "Image Shape:    (28, 28, 1)\n",
      "Training Set:   55000 samples\n",
      "Validation Set: 5000 samples\n",
      "Test Set:       10000 samples\n"
     ]
    }
   ],
   "source": [
    "# SUPPRESS WARNINGS\n",
    "import warnings\n",
    "warnings.filterwarnings(\"ignore\")\n",
    "\n",
    "\n",
    "# IMPORT LIBRARIES\n",
    "import tensorflow as tf\n",
    "import numpy as np\n",
    "from tensorflow.examples.tutorials.mnist import input_data\n",
    "\n",
    "\n",
    "# LOAD DATA (RESHAPING THE IMAGES)\n",
    "mnist = input_data.read_data_sets(\"MNIST_data/\", one_hot=True)\n",
    "X_train, y_train = mnist.train.images.reshape((-1,28,28,1)), mnist.train.labels\n",
    "X_val, y_val     = mnist.validation.images.reshape((-1,28,28,1)), mnist.validation.labels\n",
    "X_test, y_test   = mnist.test.images.reshape((-1,28,28,1)), mnist.test.labels\n",
    "\n",
    "\n",
    "# PRINT SHAPES\n",
    "print(\"Image Shape:    {}\".format(X_train[0].shape))\n",
    "print(\"Training Set:   {} samples\".format(len(X_train)))\n",
    "print(\"Validation Set: {} samples\".format(len(X_val)))\n",
    "print(\"Test Set:       {} samples\".format(len(X_test)))\n",
    "\n",
    "\n",
    "# DECLARE NOISE\n",
    "epsilon = 1e-10"
   ]
  },
  {
   "cell_type": "markdown",
   "metadata": {},
   "source": [
    "# Section 1 : Neural Network in TensorFlow"
   ]
  },
  {
   "cell_type": "markdown",
   "metadata": {},
   "source": [
    "Before starting with CNN, let's train and test in TensorFlow the example\n",
    "**y=softmax(Wx+b)** seen in the first lab. \n",
    "\n",
    "This model reaches an accuracy of about 92 %.\n",
    "You will also learn how to launch the TensorBoard https://www.tensorflow.org/get_started/summaries_and_tensorboard to visualize the computation graph, statistics and learning curves. "
   ]
  },
  {
   "cell_type": "markdown",
   "metadata": {},
   "source": [
    "<b> Part 1 </b> : Read carefully the code in the cell below. Run it to perform training. "
   ]
  },
  {
   "cell_type": "code",
   "execution_count": 2,
   "metadata": {},
   "outputs": [
    {
     "name": "stdout",
     "output_type": "stream",
     "text": [
      "Epoch:  01   =====> Loss= 1.288656687\n",
      "Epoch:  02   =====> Loss= 0.732895707\n",
      "Epoch:  03   =====> Loss= 0.600431734\n",
      "Epoch:  04   =====> Loss= 0.536598756\n",
      "Epoch:  05   =====> Loss= 0.497679079\n",
      "Epoch:  06   =====> Loss= 0.471079019\n",
      "Epoch:  07   =====> Loss= 0.451199743\n",
      "Epoch:  08   =====> Loss= 0.435972186\n",
      "Epoch:  09   =====> Loss= 0.423331934\n",
      "Epoch:  10   =====> Loss= 0.413151892\n",
      "Epoch:  11   =====> Loss= 0.404563573\n",
      "Epoch:  12   =====> Loss= 0.396768364\n",
      "Epoch:  13   =====> Loss= 0.390139156\n",
      "Epoch:  14   =====> Loss= 0.384408863\n",
      "Epoch:  15   =====> Loss= 0.379180435\n",
      "Epoch:  16   =====> Loss= 0.374510588\n",
      "Epoch:  17   =====> Loss= 0.370461611\n",
      "Epoch:  18   =====> Loss= 0.366452224\n",
      "Epoch:  19   =====> Loss= 0.362939634\n",
      "Epoch:  20   =====> Loss= 0.359817044\n",
      "Epoch:  21   =====> Loss= 0.356638641\n",
      "Epoch:  22   =====> Loss= 0.353733235\n",
      "Epoch:  23   =====> Loss= 0.351230506\n",
      "Epoch:  24   =====> Loss= 0.348820395\n",
      "Epoch:  25   =====> Loss= 0.346639510\n",
      "Epoch:  26   =====> Loss= 0.344088379\n",
      "Epoch:  27   =====> Loss= 0.342162504\n",
      "Epoch:  28   =====> Loss= 0.340139622\n",
      "Epoch:  29   =====> Loss= 0.338464951\n",
      "Epoch:  30   =====> Loss= 0.336773703\n",
      "Epoch:  31   =====> Loss= 0.334989540\n",
      "Epoch:  32   =====> Loss= 0.333458362\n",
      "Epoch:  33   =====> Loss= 0.331941483\n",
      "Epoch:  34   =====> Loss= 0.330746901\n",
      "Epoch:  35   =====> Loss= 0.329113808\n",
      "Epoch:  36   =====> Loss= 0.327887845\n",
      "Epoch:  37   =====> Loss= 0.326602077\n",
      "Epoch:  38   =====> Loss= 0.325379689\n",
      "Epoch:  39   =====> Loss= 0.324043534\n",
      "Epoch:  40   =====> Loss= 0.322985497\n",
      "Optimization Finished!\n",
      "Accuracy: 0.9166\n"
     ]
    }
   ],
   "source": [
    "#STEP 1\n",
    "\n",
    "# Parameters\n",
    "learning_rate = 0.01\n",
    "training_epochs = 40\n",
    "batch_size = 128\n",
    "display_step = 1\n",
    "logs_path = 'log_files/'  # useful for tensorboard\n",
    "\n",
    "# tf Graph Input:  mnist data image of shape 28*28=784\n",
    "x = tf.placeholder(tf.float32, [None, 784], name='InputData')\n",
    "# 0-9 digits recognition,  10 classes\n",
    "y = tf.placeholder(tf.float32, [None, 10], name='LabelData')\n",
    "\n",
    "# Set model weights\n",
    "W = tf.Variable(tf.zeros([784, 10]), name='Weights')\n",
    "b = tf.Variable(tf.zeros([10]), name='Bias')\n",
    "\n",
    "# Construct model and encapsulating all ops into scopes, making Tensorboard's Graph visualization more convenient\n",
    "with tf.name_scope('Model'):\n",
    "    # Model\n",
    "    pred = tf.nn.softmax(tf.matmul(x, W) + b) # Softmax\n",
    "with tf.name_scope('Loss'):\n",
    "    # Minimize error using cross entropy\n",
    "    # We use tf.clip_by_value to avoid having too low numbers in the log function\n",
    "    cost = tf.reduce_mean(-tf.reduce_sum(y*tf.log(tf.clip_by_value(pred, epsilon, 1.0)), reduction_indices=1))\n",
    "with tf.name_scope('SGD'):\n",
    "    # Gradient Descent\n",
    "    optimizer = tf.train.GradientDescentOptimizer(learning_rate).minimize(cost)\n",
    "with tf.name_scope('Accuracy'):\n",
    "    # Accuracy\n",
    "    acc = tf.equal(tf.argmax(pred, 1), tf.argmax(y, 1))\n",
    "    acc = tf.reduce_mean(tf.cast(acc, tf.float32))\n",
    "\n",
    "# Initializing the variables\n",
    "init = tf.global_variables_initializer()\n",
    "# Create a summary to monitor cost tensor\n",
    "tf.summary.scalar(\"Loss\", cost)\n",
    "# Create a summary to monitor accuracy tensor\n",
    "tf.summary.scalar(\"Accuracy\", acc)\n",
    "# Merge all summaries into a single op\n",
    "merged_summary_op = tf.summary.merge_all()\n",
    "\n",
    "#STEP 2 \n",
    "\n",
    "# Launch the graph for training\n",
    "with tf.Session() as sess:\n",
    "    sess.run(init)\n",
    "    # op to write logs to Tensorboard\n",
    "    summary_writer = tf.summary.FileWriter(logs_path, graph=tf.get_default_graph())\n",
    "    # Training cycle\n",
    "    for epoch in range(training_epochs):\n",
    "        avg_cost = 0.\n",
    "        total_batch = int(mnist.train.num_examples/batch_size)\n",
    "        # Loop over all batches\n",
    "        for i in range(total_batch):\n",
    "            batch_xs, batch_ys = mnist.train.next_batch(batch_size, shuffle=(i==0))\n",
    "            # Run optimization op (backprop), cost op (to get loss value)\n",
    "            # and summary nodes\n",
    "            _, c, summary = sess.run([optimizer, cost, merged_summary_op],\n",
    "                                     feed_dict={x: batch_xs, y: batch_ys})\n",
    "            # Write logs at every iteration\n",
    "            summary_writer.add_summary(summary, epoch * total_batch + i)\n",
    "            # Compute average loss\n",
    "            avg_cost += c / total_batch\n",
    "        # Display logs per epoch step\n",
    "        if (epoch+1) % display_step == 0:\n",
    "            print(\"Epoch: \", '%02d' % (epoch+1), \"  =====> Loss=\", \"{:.9f}\".format(avg_cost))\n",
    "\n",
    "    print(\"Optimization Finished!\")\n",
    "    summary_writer.flush()\n",
    "\n",
    "    # Test model\n",
    "    # Calculate accuracy\n",
    "    print(\"Accuracy:\", acc.eval({x: mnist.test.images, y: mnist.test.labels}))"
   ]
  },
  {
   "cell_type": "markdown",
   "metadata": {},
   "source": [
    "<b> Part 2  </b>: Using Tensorboard, we can  now visualize the created graph, giving you an overview of your architecture and how all of the major components  are connected. You can also see and analyse the learning curves. \n",
    "\n",
    "To launch tensorBoard: \n",
    "- Open a Terminal and run the command line **\"tensorboard --logdir=CNNonMNIST/log_files/\"**\n",
    "- Click on \"Tensorboard web interface\" in Zoe  \n",
    "\n",
    "\n",
    "Enjoy It !! \n"
   ]
  },
  {
   "cell_type": "markdown",
   "metadata": {},
   "source": [
    "# Section 2 : The 99% MNIST Challenge!"
   ]
  },
  {
   "cell_type": "markdown",
   "metadata": {},
   "source": [
    "<b> Part 1 </b> : LeNet5 implementation"
   ]
  },
  {
   "cell_type": "markdown",
   "metadata": {},
   "source": [
    "You are now more familar with **TensorFlow** and **TensorBoard**. In this section, you are to build, train and test the baseline [LeNet-5](http://yann.lecun.com/exdb/lenet/)  model for the MNIST digits recognition problem.  \n",
    "\n",
    "Then, you will make some optimizations to get more than 99% of accuracy.\n",
    "\n",
    "For more informations, have a look at this list of results: http://rodrigob.github.io/are_we_there_yet/build/classification_datasets_results.html"
   ]
  },
  {
   "cell_type": "markdown",
   "metadata": {},
   "source": [
    "##### <img src=\"lenet.png\",width=\"800\" height=\"600\" align=\"center\">\n",
    "<center><span>Figure 1: Lenet-5 </span></center>\n",
    "\n",
    "\n",
    "\n",
    "\n",
    "\n",
    "The LeNet architecture takes a 28x28xC image as input, where C is the number of color channels. Since MNIST images are grayscale, C is 1 in this case.\n",
    "\n",
    "--------------------------\n",
    "**Layer 1 - Convolution (5x5):** The output shape should be 28x28x6. **Activation:** ReLU. **MaxPooling:** The output shape should be 14x14x6.\n",
    "\n",
    "**Layer 2 - Convolution (5x5):** The output shape should be 10x10x16. **Activation:** ReLU. **MaxPooling:** The output shape should be 5x5x16.\n",
    "\n",
    "**Flatten:** Flatten the output shape of the final pooling layer such that it's 1D instead of 3D.  You may need to use tf.reshape.\n",
    "\n",
    "**Layer 3 - Fully Connected:** This should have 120 outputs. **Activation:** ReLU.\n",
    "\n",
    "**Layer 4 - Fully Connected:** This should have 84 outputs. **Activation:** ReLU.\n",
    "\n",
    "**Layer 5 - Fully Connected:** This should have 10 outputs. **Activation:** softmax.\n"
   ]
  },
  {
   "cell_type": "markdown",
   "metadata": {},
   "source": [
    "<b> Question 2.1.1 </b>  Implement the Neural Network architecture described above.\n",
    "For that, your will use classes and functions from  https://www.tensorflow.org/api_docs/python/tf/nn. \n",
    "\n",
    "We give you some helper functions for weigths and bias initilization. Also you can refer to section 1. \n"
   ]
  },
  {
   "cell_type": "code",
   "execution_count": 3,
   "metadata": {},
   "outputs": [],
   "source": [
    "# --- FUNCTIONS FOR WEIGHT AND BIAS INITIALIZATIONS --- #\n",
    "# WEIGHTS\n",
    "def weight_variable(shape):\n",
    "  initial = tf.truncated_normal(shape, stddev=0.1)\n",
    "  return tf.Variable(initial)\n",
    "\n",
    "# BIASES\n",
    "def bias_variable(shape):\n",
    "  initial = tf.constant(0., shape=shape)\n",
    "  return tf.Variable(initial)"
   ]
  },
  {
   "cell_type": "code",
   "execution_count": 4,
   "metadata": {},
   "outputs": [],
   "source": [
    "def LeNet5_Model(images):    \n",
    "    \n",
    "    # --- INTERNAL MODEL DEFINITION --- #\n",
    "    with tf.name_scope(\"model\"):\n",
    "        \n",
    "        # CONVOLUTIONAL 1 LAYER\n",
    "        with tf.name_scope(\"conv1\"):\n",
    "            \n",
    "            # Convolution (28x28x1 -> CONV1 -> 28x28x6)\n",
    "            conv1 = tf.nn.conv2d(input=images,\n",
    "                                 filter=weight_variable([5,5,1,6]),\n",
    "                                 strides=[1,1,1,1],\n",
    "                                 padding='SAME')\n",
    "            \n",
    "            # Activation\n",
    "            act1 = tf.nn.relu(conv1 + bias_variable([6]))\n",
    "            \n",
    "            # Pooling (28x28x6 -> MAXPOOL1 -> 14x14x6)\n",
    "            pool1 = tf.nn.max_pool(act1, ksize=[1,2,2,1], strides=[1,2,2,1], padding='VALID')\n",
    "    \n",
    "    \n",
    "        # CONVOLUTIONAL 2 LAYER\n",
    "        with tf.name_scope('conv2'):\n",
    "            \n",
    "            # Convolution (14x14x6 -> CONV2 -> 10x10x16)\n",
    "            conv2 = tf.nn.conv2d(input=pool1,\n",
    "                                 filter=weight_variable([5,5,6,16]),\n",
    "                                 strides=[1,1,1,1],\n",
    "                                 padding='VALID')\n",
    "            \n",
    "            # Activation\n",
    "            act2 = tf.nn.relu(conv2 + bias_variable([16]))\n",
    "            \n",
    "            # Pooling (10x10x16 -> MAXPOOL2 -> 5x5x16)\n",
    "            pool2 = tf.nn.max_pool(act2, ksize=[1,2,2,1], strides=[1,2,2,1], padding='VALID')   \n",
    "        \n",
    "        \n",
    "        # FLATTEN LAYER\n",
    "        with tf.name_scope('flatten'):\n",
    "            \n",
    "            # Flatten (5x5x16 -> 400)\n",
    "            flat = tf.contrib.layers.flatten(pool2)\n",
    "        \n",
    "        \n",
    "        # FULLY CONNECTED LAYER 3\n",
    "        with tf.name_scope('layer3'):\n",
    "            \n",
    "            # Activation (400 -> FC3 -> 120)\n",
    "            hidden3 = tf.nn.relu(tf.matmul(flat, weight_variable([400,120])) + bias_variable([120]))\n",
    "            \n",
    "            \n",
    "        # FULLY CONNECTED LAYER 4\n",
    "        with tf.name_scope('layer4'):\n",
    "            \n",
    "            # Activation (120 -> FC4 -> 84)\n",
    "            hidden4 = tf.nn.relu(tf.matmul(hidden3, weight_variable([120,84])) + bias_variable([84]))\n",
    "            \n",
    "            \n",
    "        # FULLY CONNECTED LAYER 5\n",
    "        with tf.name_scope('layer5'):\n",
    "            \n",
    "            # Activation (84 -> FC5 -> 10)\n",
    "            predictions = tf.nn.softmax(tf.matmul(hidden4, weight_variable([84,10])) + bias_variable([10]))\n",
    "        \n",
    "        \n",
    "        return predictions"
   ]
  },
  {
   "cell_type": "markdown",
   "metadata": {},
   "source": [
    "<b> Question 2.1.2. </b>  Calculate the number of parameters of this model "
   ]
  },
  {
   "cell_type": "code",
   "execution_count": 5,
   "metadata": {},
   "outputs": [
    {
     "name": "stdout",
     "output_type": "stream",
     "text": [
      "Total number of parameters: 7850\n"
     ]
    }
   ],
   "source": [
    "# COMPUTE THE NUMBER OF PARAMETERS\n",
    "count = np.sum([np.prod(v.shape.as_list()) for v in tf.trainable_variables()])\n",
    "\n",
    "# PRINT THE RESULT\n",
    "print(\"Total number of parameters:\", count)"
   ]
  },
  {
   "cell_type": "markdown",
   "metadata": {},
   "source": [
    "<div class='alert alert-success'>\n",
    "</div>"
   ]
  },
  {
   "cell_type": "markdown",
   "metadata": {},
   "source": [
    "<b> Question 2.1.3. </b>  Define your model, its accuracy and the loss function according to the following parameters (you can look at Section 1 to see what is expected):\n",
    "\n",
    "     Learning rate: 0.001\n",
    "     Loss Function: Cross-entropy\n",
    "     Optimizer: tf.train.GradientDescentOptimizer\n",
    "     Number of epochs: 40\n",
    "     Batch size: 128"
   ]
  },
  {
   "cell_type": "code",
   "execution_count": 18,
   "metadata": {},
   "outputs": [],
   "source": [
    "# RESET THE GRAPH AND CLEAR LOGS\n",
    "! rm -rf ./log_files\n",
    "tf.reset_default_graph()\n",
    "\n",
    "\n",
    "# PARAMETERS\n",
    "learning_rate = 0.001\n",
    "training_epochs = 40\n",
    "batch_size = 128\n",
    "loss_display_step = 1\n",
    "acc_display_step = 10\n",
    "logs_path = 'log_files/'\n",
    "\n",
    "\n",
    "# PLACEHOLDERS\n",
    "x = tf.placeholder(tf.float32, [None,28,28,1], name='input')\n",
    "y = tf.placeholder(tf.float32, [None,10], name='output')\n",
    "\n",
    "\n",
    "# MODEL DEFINITION\n",
    "# Model structure\n",
    "with tf.name_scope('model'):\n",
    "    pred = LeNet5_Model(images=x)\n",
    "    \n",
    "# Loss\n",
    "with tf.name_scope('loss'):\n",
    "    cost = tf.reduce_mean(-tf.reduce_sum(y*tf.log(tf.clip_by_value(pred, epsilon, 1.0)), reduction_indices=1))\n",
    "\n",
    "# Optimizer\n",
    "with tf.name_scope('optimizer'):\n",
    "    optimizer = tf.train.GradientDescentOptimizer(learning_rate).minimize(cost)\n",
    "\n",
    "# Accuracy\n",
    "with tf.name_scope('accuracy'):\n",
    "    acc = tf.equal(tf.argmax(pred, 1), tf.argmax(y, 1))\n",
    "    acc = tf.reduce_mean(tf.cast(acc, tf.float32))"
   ]
  },
  {
   "cell_type": "markdown",
   "metadata": {},
   "source": [
    "<b> Question 2.1.4. </b>  Implement the evaluation function for accuracy computation "
   ]
  },
  {
   "cell_type": "code",
   "execution_count": 9,
   "metadata": {},
   "outputs": [],
   "source": [
    "# EVALUATION FUNCTION\n",
    "def evaluate(logits, labels):\n",
    "    pass"
   ]
  },
  {
   "cell_type": "markdown",
   "metadata": {},
   "source": [
    "<b> Question 2.1.5. </b>  Implement training pipeline and run the training data through it to train the model.\n",
    "\n",
    "- Before each epoch, shuffle the training set. \n",
    "- Print the loss per mini batch and the training/validation accuracy per epoch. (Display results every 100 epochs)\n",
    "- Save the model after training\n",
    "- Print after training the final testing accuracy "
   ]
  },
  {
   "cell_type": "code",
   "execution_count": 19,
   "metadata": {},
   "outputs": [
    {
     "name": "stdout",
     "output_type": "stream",
     "text": [
      "[OPTIMIZATION STARTED]\n",
      "\n",
      "Epoch: 01  =====>  Loss = 2.2881\n",
      "Epoch: 02  =====>  Loss = 2.2437\n",
      "Epoch: 03  =====>  Loss = 2.1621\n",
      "Epoch: 04  =====>  Loss = 1.9671\n",
      "Epoch: 05  =====>  Loss = 1.4863\n",
      "Epoch: 06  =====>  Loss = 0.9038\n",
      "Epoch: 07  =====>  Loss = 0.6180\n",
      "Epoch: 08  =====>  Loss = 0.4937\n",
      "Epoch: 09  =====>  Loss = 0.4271\n",
      "Epoch: 10  =====>  Loss = 0.3849\n",
      "Train accuracy = 89.58%  |  Validation accuracy = 89.84%\n",
      "\n",
      "Epoch: 11  =====>  Loss = 0.3551\n",
      "Epoch: 12  =====>  Loss = 0.3323\n",
      "Epoch: 13  =====>  Loss = 0.3136\n",
      "Epoch: 14  =====>  Loss = 0.2982\n",
      "Epoch: 15  =====>  Loss = 0.2848\n",
      "Epoch: 16  =====>  Loss = 0.2730\n",
      "Epoch: 17  =====>  Loss = 0.2625\n",
      "Epoch: 18  =====>  Loss = 0.2528\n",
      "Epoch: 19  =====>  Loss = 0.2441\n",
      "Epoch: 20  =====>  Loss = 0.2361\n",
      "Train accuracy = 93.22%  |  Validation accuracy = 93.30%\n",
      "\n",
      "Epoch: 21  =====>  Loss = 0.2288\n",
      "Epoch: 22  =====>  Loss = 0.2216\n",
      "Epoch: 23  =====>  Loss = 0.2151\n",
      "Epoch: 24  =====>  Loss = 0.2090\n",
      "Epoch: 25  =====>  Loss = 0.2034\n",
      "Epoch: 26  =====>  Loss = 0.1983\n",
      "Epoch: 27  =====>  Loss = 0.1933\n",
      "Epoch: 28  =====>  Loss = 0.1885\n",
      "Epoch: 29  =====>  Loss = 0.1843\n",
      "Epoch: 30  =====>  Loss = 0.1801\n",
      "Train accuracy = 94.78%  |  Validation accuracy = 94.90%\n",
      "\n",
      "Epoch: 31  =====>  Loss = 0.1760\n",
      "Epoch: 32  =====>  Loss = 0.1724\n",
      "Epoch: 33  =====>  Loss = 0.1688\n",
      "Epoch: 34  =====>  Loss = 0.1655\n",
      "Epoch: 35  =====>  Loss = 0.1622\n",
      "Epoch: 36  =====>  Loss = 0.1593\n",
      "Epoch: 37  =====>  Loss = 0.1562\n",
      "Epoch: 38  =====>  Loss = 0.1533\n",
      "Epoch: 39  =====>  Loss = 0.1507\n",
      "Epoch: 40  =====>  Loss = 0.1482\n",
      "Train accuracy = 95.66%  |  Validation accuracy = 95.80%\n",
      "\n",
      "\n",
      "[OPTIMIZATION FINISHED]\n",
      "Test accuracy = 96.01%\n"
     ]
    }
   ],
   "source": [
    "# MAKE SUMMARIES\n",
    "init = tf.global_variables_initializer()\n",
    "tf.summary.scalar(\"loss-LeNet\", cost)\n",
    "tf.summary.scalar(\"accuracy-LeNet\", acc)\n",
    "merged_summary_op = tf.summary.merge_all()\n",
    "\n",
    "# TRAIN FUNCTION\n",
    "def train(init, sess, logs_path, n_epochs, batch_size, optimizer, cost, merged_summary_op):\n",
    "    \n",
    "    # Start\n",
    "    print(\"[OPTIMIZATION STARTED]\\n\")\n",
    "    sess.run(init)\n",
    "    summary_writer = tf.summary.FileWriter(logs_path, graph=tf.get_default_graph())\n",
    "    \n",
    "    # Training\n",
    "    for epoch in range(training_epochs):\n",
    "        \n",
    "        # Init\n",
    "        avg_cost = 0.\n",
    "        total_batch = int(mnist.train.num_examples/batch_size)\n",
    "        \n",
    "        # Loop over all batches\n",
    "        for i in range(total_batch):\n",
    "            \n",
    "            # Next batch\n",
    "            batch_xs, batch_ys = mnist.train.next_batch(batch_size, shuffle=(i==0))\n",
    "            batch_xs = batch_xs.reshape(batch_size,28,28,1)\n",
    "            \n",
    "            # Run optimization\n",
    "            _, c, summary = sess.run([optimizer, cost, merged_summary_op],\n",
    "                                     feed_dict={x: batch_xs, y: batch_ys})\n",
    "            \n",
    "            # Write logs\n",
    "            summary_writer.add_summary(summary, epoch * total_batch + i)\n",
    "            \n",
    "            # Compute average loss\n",
    "            avg_cost += c / total_batch\n",
    "        \n",
    "        # Display logs\n",
    "        if (epoch+1) % loss_display_step == 0:\n",
    "            print(\"Epoch:\", '%02d' % (epoch+1), \" =====>  Loss =\", \"{:.4f}\".format(avg_cost))\n",
    "        \n",
    "        if (epoch+1) % acc_display_step == 0:\n",
    "            acc_train = acc.eval({x: X_train, y: y_train})\n",
    "            acc_val = acc.eval({x: X_val, y: y_val})\n",
    "            \n",
    "            print(\"Train accuracy =\", \"{:.2f}%\".format(acc_train*100),\n",
    "                  \" | \",\n",
    "                  \"Validation accuracy =\", \"{:.2f}%\\n\".format(acc_val*100))\n",
    "            \n",
    "            \n",
    "    print(\"[OPTIMIZATION FINISHED]\")\n",
    "    summary_writer.flush()\n",
    "    \n",
    "    \n",
    "    # --- ACCURACY ------------------------------------------------------ #\n",
    "    acc_test = acc.eval({x: X_test, y: y_test})\n",
    "    print(\"Test accuracy =\", \"{:.2f}%\".format(acc_test*100))\n",
    "\n",
    "with tf.Session() as sess:\n",
    "    train(init, sess, logs_path, training_epochs, batch_size, optimizer, cost, merged_summary_op)"
   ]
  },
  {
   "cell_type": "markdown",
   "metadata": {},
   "source": [
    "<b> Question 2.1.6 </b> : Use TensorBoard to visualise and save loss and accuracy curves. \n",
    "You will save figures in the folder **\"lab_2/MNIST_figures\"** and display them in your notebook."
   ]
  },
  {
   "cell_type": "markdown",
   "metadata": {},
   "source": [
    "Please put your loss and accuracy curves here."
   ]
  },
  {
   "cell_type": "markdown",
   "metadata": {},
   "source": [
    "<b> Part 2 </b> : LeNET 5 Optimization"
   ]
  },
  {
   "cell_type": "markdown",
   "metadata": {},
   "source": [
    "\n",
    "<b> Question 2.2.1 </b>\n",
    "\n",
    "- Retrain your network with AdamOptimizer and then fill the table above:\n",
    "\n",
    "\n",
    "| Optimizer            |  Gradient Descent  |    AdamOptimizer    |\n",
    "|----------------------|--------------------|---------------------|\n",
    "| Testing Accuracy     |         ???        |        ???          |       \n",
    "| Training Time        |         ???        |        ???          |  \n",
    "\n",
    "- Which optimizer gives the best accuracy on test data?\n",
    "\n",
    "**Your answer:** ...\n"
   ]
  },
  {
   "cell_type": "code",
   "execution_count": null,
   "metadata": {},
   "outputs": [],
   "source": [
    "tf.reset_default_graph()\n",
    "# your implementation goes here"
   ]
  },
  {
   "cell_type": "markdown",
   "metadata": {},
   "source": [
    "<b> Question 2.2.2</b> Try to add dropout (keep_prob = 0.75) before the first fully connected layer. You will use tf.nn.dropout for that purpose. What accuracy do you achieve on testing data?\n",
    "\n",
    "**Accuracy achieved on testing data:** ..."
   ]
  },
  {
   "cell_type": "code",
   "execution_count": null,
   "metadata": {},
   "outputs": [],
   "source": [
    "def LeNet5_Model_Dropout(image):    \n",
    "    # your implementation goes here\n",
    "\n",
    "tf.reset_default_graph()\n",
    "# your implementation goes here"
   ]
  }
 ],
 "metadata": {
  "anaconda-cloud": {},
  "kernelspec": {
   "display_name": "Python 3",
   "language": "python",
   "name": "python3"
  },
  "language_info": {
   "codemirror_mode": {
    "name": "ipython",
    "version": 3
   },
   "file_extension": ".py",
   "mimetype": "text/x-python",
   "name": "python",
   "nbconvert_exporter": "python",
   "pygments_lexer": "ipython3",
   "version": "3.5.2"
  },
  "widgets": {
   "state": {},
   "version": "1.1.2"
  }
 },
 "nbformat": 4,
 "nbformat_minor": 2
}
